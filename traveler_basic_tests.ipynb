{
 "cells": [
  {
   "cell_type": "code",
   "execution_count": 11,
   "metadata": {},
   "outputs": [],
   "source": [
    "import warnings\n",
    "warnings.filterwarnings('ignore')"
   ]
  },
  {
   "cell_type": "code",
   "execution_count": 12,
   "metadata": {},
   "outputs": [],
   "source": [
    "import openai\n",
    "import json\n",
    "from selenium import webdriver\n",
    "from selenium.webdriver.chrome.options import Options\n",
    "from selenium.webdriver.common.keys import Keys\n",
    "from trafilatura import fetch_url\n",
    "from trafilatura import extract\n",
    "from bs4 import BeautifulSoup as bs\n",
    "from random import choice\n",
    "from colorama import Fore, Back, Style\n",
    "from datetime import datetime\n",
    "from rich import print as rprint"
   ]
  },
  {
   "cell_type": "code",
   "execution_count": 13,
   "metadata": {},
   "outputs": [],
   "source": [
    "from rich import pretty\n",
    "pretty.install()"
   ]
  },
  {
   "cell_type": "code",
   "execution_count": 14,
   "metadata": {},
   "outputs": [],
   "source": [
    "from actions import get_page_source, text_extract, search_info, get_links, decide_SearchorLinks\n",
    "from session_manager import start_session, USER_AGENTS\n",
    "from config import Config"
   ]
  },
  {
   "cell_type": "code",
   "execution_count": 15,
   "metadata": {},
   "outputs": [],
   "source": [
    "config = json.load(open(\"/Users/leszekbukowski/openai/config.json\", \"r\"))\n",
    "openai.api_key = config[\"KEY\"]"
   ]
  },
  {
   "cell_type": "code",
   "execution_count": 6,
   "metadata": {},
   "outputs": [],
   "source": [
    "model = \"gpt-3.5-turbo-16k-0613\"\n",
    "#model = \"gpt-4-0614\""
   ]
  },
  {
   "cell_type": "code",
   "execution_count": 7,
   "metadata": {},
   "outputs": [],
   "source": [
    "READ_PROMPTS = json.load(open(\"read_prompts.json\", \"r\"))\n",
    "SEARCH_PROMPTS = json.load(open(\"search_prompts.json\", \"r\"))"
   ]
  },
  {
   "cell_type": "code",
   "execution_count": 8,
   "metadata": {},
   "outputs": [],
   "source": [
    "MEMORIES = {\"questions\": [], \"theses\": []}\n",
    "\n",
    "def structure_memory(raw_thesis: str, page_url: str):\n",
    "    theses = [thesis[2:].strip() for thesis in raw_thesis.split(\"\\n\")]\n",
    "    timed_theses = {page_url: [{\"memory\": thesis, \"time\": datetime.now().isoformat()[:-7]} for thesis in theses]}\n",
    "    return timed_theses"
   ]
  },
  {
   "cell_type": "code",
   "execution_count": 9,
   "metadata": {},
   "outputs": [],
   "source": [
    "functions = [\n",
    "        {\n",
    "            \"name\": \"decide_SearchorLinks\",\n",
    "            \"description\": \"Returns dict with decision.\",\n",
    "            \"parameters\": {\n",
    "                \"type\": \"object\",\n",
    "                \"properties\": {\n",
    "                    \"what_to_search\": {\n",
    "                        \"type\": \"string\",\n",
    "                        \"description\": \"Query to search for\",\n",
    "                    },\n",
    "                    \"link_num\": {\"type\": \"string\", \"description\": \"Link number to click\"},\n",
    "                },\n",
    "                \"required\": [\"what_to_search\", \"link_num\"],\n",
    "            },\n",
    "        }\n",
    "    ]"
   ]
  },
  {
   "cell_type": "code",
   "execution_count": 10,
   "metadata": {},
   "outputs": [
    {
     "name": "stdout",
     "output_type": "stream",
     "text": [
      "\u001b[1m\u001b[34mI am reading the following page: https://plato.stanford.edu/entries/poincare/\n",
      "\n",
      "\u001b[1m\u001b[92m1. Henri Poincaré was a polymath, known for his contributions in mathematics, theoretical physics, and philosophy of science.\n",
      "\n",
      "2. Poincaré's philosophy of science is influenced by the reflections of Ernst Mach, James Maxwell, and Hermann von Helmholtz, as well as the philosophical doctrines of his time.\n",
      "\n",
      "3. Poincaré's philosophy of mathematics rejects the idea that logic alone is sufficient to express the essential structure of mathematical reasoning.\n",
      "\n",
      "4. Poincaré's critique of logicism and formalism in mathematics led him to develop his own geometric conventionalism.\n",
      "\n",
      "5. Poincaré's view of geometry is that it is a system of relations, not a study of inherent properties of objects, and he argues that different geometries can be equally valid.\n",
      "\n",
      "6. Poincaré's concept of conventions in geometry suggests that the choice of axioms and definitions is not determined by the nature of objects, but rather by the convenience and simplicity of the system.\n",
      "\n",
      "7. Poincaré's approach to science and mathematics emphasizes the role of intuition and the need for a balance between rigor and understanding.\n",
      "\n",
      "8. Poincaré's structural approach to mathematics and science focuses on the relationships and structures within a system, rather than the specific objects or entities being studied.\n",
      "\n",
      "9. Poincaré's philosophy of science and mathematics has had a significant impact on the development of logical empiricism and the formal conception of mathematics.\n",
      "\n",
      "\u001b[1m\u001b[33mWhat are some concrete examples of Poincaré's contributions to the fields of mathematics, theoretical physics, and philosophy of science?\n",
      "\n",
      "\u001b[1m\u001b[95mSearching for: Poincaré's contributions to mathematics, theoretical physics, and philosophy of science\n",
      "\n"
     ]
    }
   ],
   "source": [
    "S = start_session(headless=True)\n",
    "page_source = get_page_source(S, \"https://plato.stanford.edu/entries/poincare/\")\n",
    "#page_source = get_page_source(S, \"https://en.wikipedia.org/wiki/Warsaw\")\n",
    "page_url = S.current_url\n",
    "text = text_extract(page_source)[:50000] \n",
    "print(Style.BRIGHT+Fore.BLUE + f\"I am reading the following page: {page_url}\", end=\"\\n\\n\")\n",
    "#links_to_follow = [l.get_attribute(\"href\") for l in get_links(S) if l.get_attribute(\"href\")]\n",
    "links_to_follow = [(l.accessible_name, l.get_attribute(\"href\")) for l in get_links(S) if l.get_attribute(\"href\") and l.accessible_name]\n",
    "if len(links_to_follow) > 100:\n",
    "    links_to_follow = links_to_follow[:100]\n",
    "texted_links_to_follow = \"\\n\".join([f\"{i+1}. {link[0]}, {link[1]}\" for i, link in enumerate(links_to_follow)])\n",
    "\n",
    "messages = [{\"role\": \"system\", \"content\": READ_PROMPTS[\"navigator_manifest\"]},\n",
    "            {\"role\": \"user\", \"content\": READ_PROMPTS[\"reflection\"].format(page_url, text)}]\n",
    "\n",
    "\n",
    "# Generates memories from the content of the page\n",
    "raw_page_memories = openai.ChatCompletion.create(\n",
    "    model=model,\n",
    "    temperature=0.8,\n",
    "    messages=messages\n",
    ")\n",
    "\n",
    "page_memories = raw_page_memories[\"choices\"][0][\"message\"][\"content\"]\n",
    "print(Style.BRIGHT + Fore.LIGHTGREEN_EX + page_memories, end=\"\\n\\n\")\n",
    "MEMORIES[\"theses\"].append(structure_memory(page_memories, page_url))\n",
    "messages.append({\"role\": \"assistant\", \"content\": page_memories})\n",
    "messages.append({\"role\": \"user\", \"content\": READ_PROMPTS[\"autoreflection\"].format(page_memories)})\n",
    "\n",
    "\n",
    "# Generates the question to ask\n",
    "generated_question = openai.ChatCompletion.create(\n",
    "    model=model,\n",
    "    temperature=0.8,\n",
    "    messages=messages\n",
    ")\n",
    "\n",
    "current_question = generated_question[\"choices\"][0][\"message\"][\"content\"]\n",
    "print(Style.BRIGHT + Fore.YELLOW + current_question, end=\"\\n\\n\")\n",
    "MEMORIES[\"questions\"].append({page_url: current_question})\n",
    "messages.append({\"role\": \"assistant\", \"content\": current_question})\n",
    "messages.append({\"role\": \"user\", \"content\": READ_PROMPTS[\"next_move_consideration\"].format(current_question,\n",
    "                                                                            texted_links_to_follow,\n",
    "                                                                            Config.SERCH_ENGINE)})\n",
    "\n",
    "\n",
    "# Make decision about the futher steps\n",
    "filtered_messages = [messages[0], messages[-1]]\n",
    "raw_decision = openai.ChatCompletion.create(\n",
    "        model=model,\n",
    "        temperature=0.8,\n",
    "        messages=filtered_messages,\n",
    "        functions=functions,\n",
    "        function_call=\"auto\",  # auto is default, but we'll be explicit\n",
    "    )\n",
    "\n",
    "decision_message = raw_decision[\"choices\"][0][\"message\"]\n",
    "if decision_message.get(\"function_call\"):\n",
    "    #print(decision_message)\n",
    "    decision = json.loads(decision_message[\"function_call\"][\"arguments\"])\n",
    "    if decision[\"link_num\"]:\n",
    "        print(Style.BRIGHT + Fore.LIGHTMAGENTA_EX +  f\"follow link: {decision['link_num']}\", end=\"\\n\\n\")\n",
    "    else:\n",
    "        print(Style.BRIGHT + Fore.LIGHTMAGENTA_EX + f\"Searching for: {decision['what_to_search']}\", end=\"\\n\\n\")\n",
    "    \n",
    "    search_phrase = decision[\"what_to_search\"]\n"
   ]
  },
  {
   "cell_type": "code",
   "execution_count": 11,
   "metadata": {},
   "outputs": [
    {
     "name": "stdout",
     "output_type": "stream",
     "text": [
      "\u001b[1m\u001b[93mlink_num: 1\n",
      "\n"
     ]
    }
   ],
   "source": [
    "Ssearch = start_session(headless=True)\n",
    "#search_source = get_page_source(Ssearch, Config.SERCH_ENGINE)\n",
    "search_links, link_synopsis = search_info(Ssearch, search_phrase, S.current_url)\n",
    "\n",
    "\n",
    "search_messages = [{\"role\": \"system\", \"content\": READ_PROMPTS[\"navigator_manifest\"]},\n",
    "            {\"role\": \"user\", \"content\": SEARCH_PROMPTS[\"search_consideration\"].format(search_phrase, link_synopsis)}]\n",
    "\n",
    "raw_search_link_num = openai.ChatCompletion.create(\n",
    "    model=model,\n",
    "    temperature=0.8,\n",
    "    messages=search_messages\n",
    ")\n",
    "\n",
    "search_link_num = raw_search_link_num[\"choices\"][0][\"message\"][\"content\"]\n",
    "print(Style.BRIGHT + Fore.LIGHTYELLOW_EX + search_link_num, end=\"\\n\\n\")\n",
    "\n",
    "#Ssearch.quit()"
   ]
  },
  {
   "cell_type": "code",
   "execution_count": 121,
   "metadata": {},
   "outputs": [],
   "source": [
    "# options = Options()\n",
    "\n",
    "# options.add_argument(\"--headless\")\n",
    "# options.add_argument(f\"user-agent={choice(USER_AGENTS)}\")\n",
    "# driver = webdriver.Chrome(options=options)\n",
    "# driver.get(\"https://plato.stanford.edu/entries/poincare/\")"
   ]
  },
  {
   "cell_type": "code",
   "execution_count": 26,
   "metadata": {},
   "outputs": [],
   "source": [
    "# prompts = {}\n",
    "# for prompt_name in [navigator_manifest, reflection, autoreflection, next_move_consideration]:\n",
    "#     variable_name = [k for k, v in locals().items() if v is prompt_name][0]\n",
    "#     prompts[variable_name] = prompt_name\n",
    "# json.dump(prompts, open(\"prompts.json\", \"w\"))"
   ]
  },
  {
   "cell_type": "code",
   "execution_count": 16,
   "metadata": {},
   "outputs": [],
   "source": [
    "from reading import read\n",
    "from searching import search\n",
    "from session_manager import start_session\n",
    "\n",
    "#readS = start_session(headless=False)\n",
    "#searchS = start_session(headless=False)\n",
    "root = \"https://shandou.medium.com/export-and-create-conda-environment-with-yml-5de619fe5a2\"\n",
    "#search_concept = read(readS, \"https://plato.stanford.edu/entries/poincare/\")\n",
    "#link2content4read = search(searchS, search_concept, readS.current_url)\n",
    "try_num = 2"
   ]
  },
  {
   "cell_type": "code",
   "execution_count": 17,
   "metadata": {},
   "outputs": [
    {
     "name": "stdout",
     "output_type": "stream",
     "text": [
      "\u001b[1m\u001b[34mI am reading the following page: https://shandou.medium.com/export-and-create-conda-environment-with-yml-5de619fe5a2\n",
      "\n",
      "\u001b[1m\u001b[92m1. The author of the page is discussing their experience with developing and testing code on different systems, including MacOS, DigitalOcean droplet, and AWS ec2. \n",
      "2. The author mentions the desire to share environments between the DigitalOcean droplet and AWS platforms, and provides a quick note on how to export dependencies from one platform and clone it onto another platform.\n",
      "3. The author explains the process of creating an environment.yml file via conda and how to generate a dependency yaml file from the current conda environment.\n",
      "4. The author suggests committing the generated yml file to a git repository and cloning it onto the target operating system to create a conda environment from it.\n",
      "5. The author also mentions a few other frequently used conda commands, such as listing all available conda environments, creating a new environment, removing an environment and its dependencies, and cloning an existing environment.\n",
      "\n",
      "\u001b[1m\u001b[33mWhat are the advantages of using Conda for managing environments when developing code on different systems?\n",
      "\n",
      "\u001b[1m\u001b[95mSearching for: advantages of using Conda for managing environments when developing code on different systems\n",
      "\n",
      "\u001b[1m\u001b[97mI am looking for info about advantages of using Conda for managing environments when developing code on different systems\n",
      "\n",
      "\u001b[1m\u001b[94mI'll follow this link: https://www.freecodecamp.org › news › why-you-need-python-environments-and-how-to-manage-them-with-conda-85f155f4353c\n",
      "Why You Need Python Environments and How to Manage Them with Conda\n",
      "Flexibility: It contains a lot of packages (PIP packages are also installable into Conda environments) Multipurpose: It is not only for managing Python environments and packages — you can also use it for R (a programming language for statistical computing)\n",
      "\n",
      "\u001b[1m\u001b[34mI am reading the following page: https://www.freecodecamp.org/news/why-you-need-python-environments-and-how-to-manage-them-with-conda-85f155f4353c/\n",
      "\n",
      "\u001b[1m\u001b[92m1. Python environments are necessary for managing different versions of Python and packages, especially when working on multiple projects or collaborating with others.\n",
      "2. Conda is a popular package and environment manager that offers clear structure, transparent file management, flexibility, and support for multiple programming languages.\n",
      "3. Conda allows users to create and manage multiple environments, each with its own Python version and set of packages.\n",
      "4. Channels in Conda determine where packages are sourced from, and users can add or prioritize channels to access specific packages.\n",
      "5. Conda provides commands for searching, installing, updating, and removing packages within environments.\n",
      "6. Users can also pin packages to prevent them from being updated and easily change the Python version within an environment.\n",
      "7. Docker can be used to containerize applications with their specific Conda environment, allowing for easier distribution and reproducibility.\n",
      "\n",
      "\u001b[1m\u001b[33mWhat are some alternatives to Conda for managing Python environments and packages?\n",
      "\n",
      "\u001b[1m\u001b[95mSearching for: alternatives to Conda for managing Python environments and packages\n",
      "\n",
      "\u001b[1m\u001b[97mI am looking for info about alternatives to Conda for managing Python environments and packages\n",
      "\n",
      "\u001b[1m\u001b[94mI'll follow this link: https://dataideas-newsletter.beehiiv.com › p › choosing-right-python-package-manager-comprehensive-comparison\n",
      "Choosing the Right Python Package Manager: A Comprehensive Comparison\n",
      "2 days agoHowever, managing Python environments and dependencies can sometimes be a daunting task. This is where Python virtual environment managers come to the rescue. In this guide, we'll explore what virtual environments are, why they are crucial, and compare some of the most widely used virtual managers. ... Management ...\n",
      "\n",
      "\u001b[1m\u001b[34mI am reading the following page: https://dataideas-newsletter.beehiiv.com/p/choosing-right-python-package-manager-comprehensive-comparison\n",
      "\n",
      "\u001b[1m\u001b[92m1. Python virtual environments are essential for managing project-specific dependencies and ensuring reproducibility and security.\n",
      "2. Conda is a popular package manager and environment management system known for its cross-platform compatibility and support for multiple programming languages.\n",
      "3. Virtualenv is a lightweight tool that creates isolated Python environments and is suitable for developers who prefer a simple and minimalistic solution.\n",
      "4. Pipenv combines package management and virtual environment management into a single workflow, simplifying the process for Python developers.\n",
      "5. Poetry is a comprehensive dependency management tool designed specifically for Python, offering features such as dependency resolution, virtual environment management, and efficient packaging and distribution.\n",
      "\n",
      "\u001b[1m\u001b[33mWhat are some other popular package management and environment management systems for languages other than Python?\n",
      "\n",
      "\u001b[1m\u001b[95mSearching for: popular package management and environment management systems for languages other than Python\n",
      "\n",
      "\u001b[1m\u001b[97mI am looking for info about popular package management and environment management systems for languages other than Python\n",
      "\n",
      "\u001b[1m\u001b[94mI'll follow this link: https://dataideas-newsletter.beehiiv.com › p › choosing-right-python-package-manager-comprehensive-comparison\n",
      "Choosing the Right Python Package Manager: A Comprehensive Comparison\n",
      "2 days agoConda Conda is an open-source package management and environment management system. It is primarily known for its association with Python, but it supports multiple programming languages and software tools.\n",
      "\n",
      "\u001b[1m\u001b[34mI am reading the following page: https://dataideas-newsletter.beehiiv.com/p/choosing-right-python-package-manager-comprehensive-comparison\n",
      "\n",
      "\u001b[1m\u001b[92m1. Python virtual environments are essential for managing project dependencies and ensuring dependency isolation, reproducibility, and security.\n",
      "2. Conda, Virtualenv, Pipenv, and Poetry are popular Python virtual environment managers, each offering unique features and advantages.\n",
      "3. Conda is a powerful package and environment management system, known for its cross-platform compatibility and extensive package support.\n",
      "4. Virtualenv is a lightweight tool for creating isolated Python environments, suitable for developers who prefer a minimalistic solution.\n",
      "5. Pipenv combines package management and virtual environment management into a single workflow, simplifying dependency resolution and installation.\n",
      "6. Poetry is a comprehensive dependency management tool designed specifically for Python, focusing on streamlined project configuration, packaging, and distribution.\n",
      "7. The choice of package manager depends on specific project requirements, familiarity with the tools, and preferences of the developer.\n",
      "\n",
      "\u001b[1m\u001b[33mWhat are the primary advantages of using Python virtual environments for managing project dependencies?\n",
      "\n",
      "\u001b[1m\u001b[95mSearching for: advantages of using Python virtual environments for managing project dependencies\n",
      "\n",
      "\u001b[1m\u001b[97mI am looking for info about advantages of using Python virtual environments for managing project dependencies\n",
      "\n"
     ]
    },
    {
     "ename": "NoSuchElementException",
     "evalue": "Message: no such element: Unable to locate element: {\"method\":\"css selector\",\"selector\":\"[id=\"searchbox_input\"]\"}\n  (Session info: chrome=118.0.5993.88); For documentation on this error, please visit: https://www.selenium.dev/documentation/webdriver/troubleshooting/errors#no-such-element-exception\nStacktrace:\n0   chromedriver                        0x0000000102698510 chromedriver + 4310288\n1   chromedriver                        0x00000001026904bc chromedriver + 4277436\n2   chromedriver                        0x00000001022c3b6c chromedriver + 293740\n3   chromedriver                        0x0000000102309040 chromedriver + 577600\n4   chromedriver                        0x0000000102343e60 chromedriver + 818784\n5   chromedriver                        0x00000001022fcfd0 chromedriver + 528336\n6   chromedriver                        0x00000001022fde7c chromedriver + 532092\n7   chromedriver                        0x000000010265e834 chromedriver + 4073524\n8   chromedriver                        0x00000001026627fc chromedriver + 4089852\n9   chromedriver                        0x0000000102662c58 chromedriver + 4090968\n10  chromedriver                        0x00000001026688f8 chromedriver + 4114680\n11  chromedriver                        0x0000000102663234 chromedriver + 4092468\n12  chromedriver                        0x000000010263d604 chromedriver + 3937796\n13  chromedriver                        0x000000010267fee8 chromedriver + 4210408\n14  chromedriver                        0x0000000102680064 chromedriver + 4210788\n15  chromedriver                        0x0000000102690134 chromedriver + 4276532\n16  libsystem_pthread.dylib             0x000000018705f034 _pthread_start + 136\n17  libsystem_pthread.dylib             0x0000000187059e3c thread_start + 8\n",
     "output_type": "error",
     "traceback": [
      "\u001b[0;31m---------------------------------------------------------------------------\u001b[0m",
      "\u001b[0;31mNoSuchElementException\u001b[0m                    Traceback (most recent call last)",
      "\u001b[1;32m/Users/leszekbukowski/traveler/traveler_basic_tests.ipynb Cell 15\u001b[0m line \u001b[0;36m1\n\u001b[1;32m      <a href='vscode-notebook-cell:/Users/leszekbukowski/traveler/traveler_basic_tests.ipynb#Y112sZmlsZQ%3D%3D?line=8'>9</a>\u001b[0m concept \u001b[39m=\u001b[39m concept[\u001b[39m\"\u001b[39m\u001b[39msearch_for\u001b[39m\u001b[39m\"\u001b[39m]\n\u001b[1;32m     <a href='vscode-notebook-cell:/Users/leszekbukowski/traveler/traveler_basic_tests.ipynb#Y112sZmlsZQ%3D%3D?line=9'>10</a>\u001b[0m searchS \u001b[39m=\u001b[39m start_session(headless\u001b[39m=\u001b[39m\u001b[39mFalse\u001b[39;00m)\n\u001b[0;32m---> <a href='vscode-notebook-cell:/Users/leszekbukowski/traveler/traveler_basic_tests.ipynb#Y112sZmlsZQ%3D%3D?line=10'>11</a>\u001b[0m link2content4read \u001b[39m=\u001b[39m search(searchS, concept, readS\u001b[39m.\u001b[39;49mcurrent_url)\n\u001b[1;32m     <a href='vscode-notebook-cell:/Users/leszekbukowski/traveler/traveler_basic_tests.ipynb#Y112sZmlsZQ%3D%3D?line=11'>12</a>\u001b[0m root \u001b[39m=\u001b[39m link2content4read\n",
      "File \u001b[0;32m~/traveler/searching.py:21\u001b[0m, in \u001b[0;36msearch\u001b[0;34m(selenium_session, search_concept, context_link)\u001b[0m\n\u001b[1;32m     18\u001b[0m sleep(\u001b[39m10\u001b[39m)\n\u001b[1;32m     19\u001b[0m \u001b[39mprint\u001b[39m(Style\u001b[39m.\u001b[39mBRIGHT \u001b[39m+\u001b[39m Fore\u001b[39m.\u001b[39mLIGHTWHITE_EX \u001b[39m+\u001b[39m \u001b[39mf\u001b[39m\u001b[39m\"\u001b[39m\u001b[39mI am looking for info about \u001b[39m\u001b[39m{\u001b[39;00msearch_concept\u001b[39m}\u001b[39;00m\u001b[39m\"\u001b[39m, end\u001b[39m=\u001b[39m\u001b[39m\"\u001b[39m\u001b[39m\\n\u001b[39;00m\u001b[39m\\n\u001b[39;00m\u001b[39m\"\u001b[39m)\n\u001b[0;32m---> 21\u001b[0m search_links, link_synopsis \u001b[39m=\u001b[39m search_info(selenium_session, \n\u001b[1;32m     22\u001b[0m                                           search_concept, \n\u001b[1;32m     23\u001b[0m                                           context_link)\n\u001b[1;32m     26\u001b[0m search_messages \u001b[39m=\u001b[39m [{\u001b[39m\"\u001b[39m\u001b[39mrole\u001b[39m\u001b[39m\"\u001b[39m: \u001b[39m\"\u001b[39m\u001b[39msystem\u001b[39m\u001b[39m\"\u001b[39m, \u001b[39m\"\u001b[39m\u001b[39mcontent\u001b[39m\u001b[39m\"\u001b[39m: READ_PROMPTS[\u001b[39m\"\u001b[39m\u001b[39mnavigator_manifest\u001b[39m\u001b[39m\"\u001b[39m]},\n\u001b[1;32m     27\u001b[0m             {\u001b[39m\"\u001b[39m\u001b[39mrole\u001b[39m\u001b[39m\"\u001b[39m: \u001b[39m\"\u001b[39m\u001b[39muser\u001b[39m\u001b[39m\"\u001b[39m, \u001b[39m\"\u001b[39m\u001b[39mcontent\u001b[39m\u001b[39m\"\u001b[39m: SEARCH_PROMPTS[\u001b[39m\"\u001b[39m\u001b[39msearch_consideration\u001b[39m\u001b[39m\"\u001b[39m]\u001b[39m.\u001b[39mformat(search_concept, link_synopsis)}]\n\u001b[1;32m     29\u001b[0m raw_search_link_num \u001b[39m=\u001b[39m openai\u001b[39m.\u001b[39mChatCompletion\u001b[39m.\u001b[39mcreate(\n\u001b[1;32m     30\u001b[0m     model\u001b[39m=\u001b[39mmodel,\n\u001b[1;32m     31\u001b[0m     temperature\u001b[39m=\u001b[39m\u001b[39m0.8\u001b[39m,\n\u001b[1;32m     32\u001b[0m     messages\u001b[39m=\u001b[39msearch_messages\n\u001b[1;32m     33\u001b[0m )\n",
      "File \u001b[0;32m~/traveler/actions.py:34\u001b[0m, in \u001b[0;36msearch_info\u001b[0;34m(selenium_session, search_concept, current_url)\u001b[0m\n\u001b[1;32m     32\u001b[0m search_engine \u001b[39m=\u001b[39m Config\u001b[39m.\u001b[39mSERCH_ENGINE\n\u001b[1;32m     33\u001b[0m selenium_session\u001b[39m.\u001b[39mget(search_engine)\n\u001b[0;32m---> 34\u001b[0m searchbox \u001b[39m=\u001b[39m selenium_session\u001b[39m.\u001b[39;49mfind_element(by\u001b[39m=\u001b[39;49mConfig\u001b[39m.\u001b[39;49mSEARCH_INPUT[\u001b[39m\"\u001b[39;49m\u001b[39mby\u001b[39;49m\u001b[39m\"\u001b[39;49m], \n\u001b[1;32m     35\u001b[0m                                                  value\u001b[39m=\u001b[39;49mConfig\u001b[39m.\u001b[39;49mSEARCH_INPUT[\u001b[39m\"\u001b[39;49m\u001b[39mvalue\u001b[39;49m\u001b[39m\"\u001b[39;49m])\n\u001b[1;32m     36\u001b[0m searchbox\u001b[39m.\u001b[39msend_keys(search_concept)\n\u001b[1;32m     37\u001b[0m searchbox\u001b[39m.\u001b[39msend_keys(Keys\u001b[39m.\u001b[39mENTER)\n",
      "File \u001b[0;32m~/anaconda3/envs/scrape/lib/python3.11/site-packages/selenium/webdriver/remote/webdriver.py:739\u001b[0m, in \u001b[0;36mWebDriver.find_element\u001b[0;34m(self, by, value)\u001b[0m\n\u001b[1;32m    736\u001b[0m     by \u001b[39m=\u001b[39m By\u001b[39m.\u001b[39mCSS_SELECTOR\n\u001b[1;32m    737\u001b[0m     value \u001b[39m=\u001b[39m \u001b[39mf\u001b[39m\u001b[39m'\u001b[39m\u001b[39m[name=\u001b[39m\u001b[39m\"\u001b[39m\u001b[39m{\u001b[39;00mvalue\u001b[39m}\u001b[39;00m\u001b[39m\"\u001b[39m\u001b[39m]\u001b[39m\u001b[39m'\u001b[39m\n\u001b[0;32m--> 739\u001b[0m \u001b[39mreturn\u001b[39;00m \u001b[39mself\u001b[39;49m\u001b[39m.\u001b[39;49mexecute(Command\u001b[39m.\u001b[39;49mFIND_ELEMENT, {\u001b[39m\"\u001b[39;49m\u001b[39musing\u001b[39;49m\u001b[39m\"\u001b[39;49m: by, \u001b[39m\"\u001b[39;49m\u001b[39mvalue\u001b[39;49m\u001b[39m\"\u001b[39;49m: value})[\u001b[39m\"\u001b[39m\u001b[39mvalue\u001b[39m\u001b[39m\"\u001b[39m]\n",
      "File \u001b[0;32m~/anaconda3/envs/scrape/lib/python3.11/site-packages/selenium/webdriver/remote/webdriver.py:345\u001b[0m, in \u001b[0;36mWebDriver.execute\u001b[0;34m(self, driver_command, params)\u001b[0m\n\u001b[1;32m    343\u001b[0m response \u001b[39m=\u001b[39m \u001b[39mself\u001b[39m\u001b[39m.\u001b[39mcommand_executor\u001b[39m.\u001b[39mexecute(driver_command, params)\n\u001b[1;32m    344\u001b[0m \u001b[39mif\u001b[39;00m response:\n\u001b[0;32m--> 345\u001b[0m     \u001b[39mself\u001b[39;49m\u001b[39m.\u001b[39;49merror_handler\u001b[39m.\u001b[39;49mcheck_response(response)\n\u001b[1;32m    346\u001b[0m     response[\u001b[39m\"\u001b[39m\u001b[39mvalue\u001b[39m\u001b[39m\"\u001b[39m] \u001b[39m=\u001b[39m \u001b[39mself\u001b[39m\u001b[39m.\u001b[39m_unwrap_value(response\u001b[39m.\u001b[39mget(\u001b[39m\"\u001b[39m\u001b[39mvalue\u001b[39m\u001b[39m\"\u001b[39m, \u001b[39mNone\u001b[39;00m))\n\u001b[1;32m    347\u001b[0m     \u001b[39mreturn\u001b[39;00m response\n",
      "File \u001b[0;32m~/anaconda3/envs/scrape/lib/python3.11/site-packages/selenium/webdriver/remote/errorhandler.py:229\u001b[0m, in \u001b[0;36mErrorHandler.check_response\u001b[0;34m(self, response)\u001b[0m\n\u001b[1;32m    227\u001b[0m         alert_text \u001b[39m=\u001b[39m value[\u001b[39m\"\u001b[39m\u001b[39malert\u001b[39m\u001b[39m\"\u001b[39m]\u001b[39m.\u001b[39mget(\u001b[39m\"\u001b[39m\u001b[39mtext\u001b[39m\u001b[39m\"\u001b[39m)\n\u001b[1;32m    228\u001b[0m     \u001b[39mraise\u001b[39;00m exception_class(message, screen, stacktrace, alert_text)  \u001b[39m# type: ignore[call-arg]  # mypy is not smart enough here\u001b[39;00m\n\u001b[0;32m--> 229\u001b[0m \u001b[39mraise\u001b[39;00m exception_class(message, screen, stacktrace)\n",
      "\u001b[0;31mNoSuchElementException\u001b[0m: Message: no such element: Unable to locate element: {\"method\":\"css selector\",\"selector\":\"[id=\"searchbox_input\"]\"}\n  (Session info: chrome=118.0.5993.88); For documentation on this error, please visit: https://www.selenium.dev/documentation/webdriver/troubleshooting/errors#no-such-element-exception\nStacktrace:\n0   chromedriver                        0x0000000102698510 chromedriver + 4310288\n1   chromedriver                        0x00000001026904bc chromedriver + 4277436\n2   chromedriver                        0x00000001022c3b6c chromedriver + 293740\n3   chromedriver                        0x0000000102309040 chromedriver + 577600\n4   chromedriver                        0x0000000102343e60 chromedriver + 818784\n5   chromedriver                        0x00000001022fcfd0 chromedriver + 528336\n6   chromedriver                        0x00000001022fde7c chromedriver + 532092\n7   chromedriver                        0x000000010265e834 chromedriver + 4073524\n8   chromedriver                        0x00000001026627fc chromedriver + 4089852\n9   chromedriver                        0x0000000102662c58 chromedriver + 4090968\n10  chromedriver                        0x00000001026688f8 chromedriver + 4114680\n11  chromedriver                        0x0000000102663234 chromedriver + 4092468\n12  chromedriver                        0x000000010263d604 chromedriver + 3937796\n13  chromedriver                        0x000000010267fee8 chromedriver + 4210408\n14  chromedriver                        0x0000000102680064 chromedriver + 4210788\n15  chromedriver                        0x0000000102690134 chromedriver + 4276532\n16  libsystem_pthread.dylib             0x000000018705f034 _pthread_start + 136\n17  libsystem_pthread.dylib             0x0000000187059e3c thread_start + 8\n"
     ]
    }
   ],
   "source": [
    "readS = start_session(headless=False)\n",
    "searchS = start_session(headless=False)\n",
    "\n",
    "while True:\n",
    "    concept = read(readS, root)\n",
    "    if concept[\"link2follow\"]:\n",
    "        root = concept[\"link2follow\"]\n",
    "    elif concept[\"search_for\"]:\n",
    "        concept = concept[\"search_for\"]\n",
    "        searchS = start_session(headless=False)\n",
    "        link2content4read = search(searchS, concept, readS.current_url)\n",
    "        root = link2content4read"
   ]
  },
  {
   "cell_type": "code",
   "execution_count": null,
   "metadata": {},
   "outputs": [],
   "source": []
  }
 ],
 "metadata": {
  "kernelspec": {
   "display_name": "scrape",
   "language": "python",
   "name": "python3"
  },
  "language_info": {
   "codemirror_mode": {
    "name": "ipython",
    "version": 3
   },
   "file_extension": ".py",
   "mimetype": "text/x-python",
   "name": "python",
   "nbconvert_exporter": "python",
   "pygments_lexer": "ipython3",
   "version": "3.11.0"
  },
  "orig_nbformat": 4
 },
 "nbformat": 4,
 "nbformat_minor": 2
}
